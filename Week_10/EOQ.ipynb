{
  "nbformat": 4,
  "nbformat_minor": 0,
  "metadata": {
    "colab": {
      "provenance": []
    },
    "kernelspec": {
      "name": "python3",
      "display_name": "Python 3"
    },
    "language_info": {
      "name": "python"
    }
  },
  "cells": [
    {
      "cell_type": "markdown",
      "source": [
        "# 1. Import `Sympy` module"
      ],
      "metadata": {
        "id": "iIiL34AC4rwy"
      }
    },
    {
      "cell_type": "code",
      "execution_count": 1,
      "metadata": {
        "id": "OJHBFoZOo763"
      },
      "outputs": [],
      "source": [
        "from sympy import *"
      ]
    },
    {
      "cell_type": "markdown",
      "source": [
        "# 2. Define symbols, `D, C, S, Q, I`\n",
        "Those values should be positive, `positive=True`"
      ],
      "metadata": {
        "id": "glPVtH4U40zh"
      }
    },
    {
      "cell_type": "code",
      "source": [
        "D, C, S, Q, I = symbols('D C S Q I', positive=True)\n",
        "init_printing(use_unicode=True)"
      ],
      "metadata": {
        "id": "giLC-dfvpJGr"
      },
      "execution_count": 12,
      "outputs": []
    },
    {
      "cell_type": "markdown",
      "source": [
        "# 3. Take derivate w.r.t. order quantity `Q`\n",
        "`TC` implies total cost and `diff` means diffentiation."
      ],
      "metadata": {
        "id": "pYCbZ3hH5K8D"
      }
    },
    {
      "cell_type": "code",
      "source": [
        "TC = D*C+(D/Q)*S+(Q/2)*C*I\n",
        "diff(TC, Q)"
      ],
      "metadata": {
        "colab": {
          "base_uri": "https://localhost:8080/",
          "height": 55
        },
        "id": "4g8d_-i6pOCe",
        "outputId": "28ba9df8-935f-42a6-a1fe-a6c8195c15a6"
      },
      "execution_count": 13,
      "outputs": [
        {
          "output_type": "execute_result",
          "data": {
            "text/plain": [
              "C⋅I   D⋅S\n",
              "─── - ───\n",
              " 2      2\n",
              "       Q "
            ],
            "text/latex": "$\\displaystyle \\frac{C I}{2} - \\frac{D S}{Q^{2}}$"
          },
          "metadata": {},
          "execution_count": 13
        }
      ]
    },
    {
      "cell_type": "markdown",
      "source": [
        "# 4. Take second derivative w.r.t. order quantity `Q`\n",
        "`DTC` implies the result of first derivative."
      ],
      "metadata": {
        "id": "bN5dKPV-5ne-"
      }
    },
    {
      "cell_type": "code",
      "source": [
        "DTC = diff(TC, Q)\n",
        "diff(DTC, Q)"
      ],
      "metadata": {
        "colab": {
          "base_uri": "https://localhost:8080/",
          "height": 55
        },
        "id": "9jQuNImypRTa",
        "outputId": "c55a4f63-a395-4cb8-e7cc-27418297cfaa"
      },
      "execution_count": 14,
      "outputs": [
        {
          "output_type": "execute_result",
          "data": {
            "text/plain": [
              "2⋅D⋅S\n",
              "─────\n",
              "   3 \n",
              "  Q  "
            ],
            "text/latex": "$\\displaystyle \\frac{2 D S}{Q^{3}}$"
          },
          "metadata": {},
          "execution_count": 14
        }
      ]
    },
    {
      "cell_type": "markdown",
      "source": [
        "# 5. Solve `DTC=0` for `Q`\n",
        "We can identify the economic order quantity, `EOQ`"
      ],
      "metadata": {
        "id": "5k29y2Oa55vM"
      }
    },
    {
      "cell_type": "code",
      "source": [
        "EOQ = simplify(solve(DTC, Q)[0])\n",
        "EOQ"
      ],
      "metadata": {
        "colab": {
          "base_uri": "https://localhost:8080/",
          "height": 60
        },
        "id": "mbNY4tfiqeCo",
        "outputId": "fb82b033-d68a-43a0-9064-5e0a0542f311"
      },
      "execution_count": 31,
      "outputs": [
        {
          "output_type": "execute_result",
          "data": {
            "text/plain": [
              "√2⋅√D⋅√S\n",
              "────────\n",
              " √C⋅√I  "
            ],
            "text/latex": "$\\displaystyle \\frac{\\sqrt{2} \\sqrt{D} \\sqrt{S}}{\\sqrt{C} \\sqrt{I}}$"
          },
          "metadata": {},
          "execution_count": 31
        }
      ]
    },
    {
      "cell_type": "markdown",
      "source": [
        "# 6. Substitute numerical values for the symbols\n",
        "`D=24000, S=50, C=35, I=0.18`"
      ],
      "metadata": {
        "id": "WqpJR_wo6OzW"
      }
    },
    {
      "cell_type": "code",
      "source": [
        "EOQ = EOQ.subs({D:24000,S:50,C:35,I:0.18})\n",
        "EOQ"
      ],
      "metadata": {
        "colab": {
          "base_uri": "https://localhost:8080/",
          "height": 38
        },
        "id": "lT_ZfhpKqzUp",
        "outputId": "79b89db3-0f76-4131-fb43-25655f332aa1"
      },
      "execution_count": 32,
      "outputs": [
        {
          "output_type": "execute_result",
          "data": {
            "text/plain": [
              "134.687005940295⋅√21"
            ],
            "text/latex": "$\\displaystyle 134.687005940295 \\sqrt{21}$"
          },
          "metadata": {},
          "execution_count": 32
        }
      ]
    },
    {
      "cell_type": "markdown",
      "source": [
        "# 7. Estimated value for $\\sqrt{21}$ using `.evalf()`"
      ],
      "metadata": {
        "id": "7ZfdqjPS6gLl"
      }
    },
    {
      "cell_type": "code",
      "source": [
        "EOQ.evalf()"
      ],
      "metadata": {
        "colab": {
          "base_uri": "https://localhost:8080/",
          "height": 37
        },
        "id": "eGrGgbWu3Lv4",
        "outputId": "4cffa85d-64f1-4c49-b30a-45832c58deb9"
      },
      "execution_count": 34,
      "outputs": [
        {
          "output_type": "execute_result",
          "data": {
            "text/plain": [
              "617.213399848368"
            ],
            "text/latex": "$\\displaystyle 617.213399848368$"
          },
          "metadata": {},
          "execution_count": 34
        }
      ]
    },
    {
      "cell_type": "markdown",
      "source": [
        "# 8. Round to 3-decimal point"
      ],
      "metadata": {
        "id": "-d6t0pwT7Dan"
      }
    },
    {
      "cell_type": "code",
      "source": [
        "round(EOQ.evalf(),3)"
      ],
      "metadata": {
        "colab": {
          "base_uri": "https://localhost:8080/",
          "height": 37
        },
        "id": "JdwdEHmL4V6V",
        "outputId": "21707ea3-2ad3-4559-b304-e19f3bb5c516"
      },
      "execution_count": 35,
      "outputs": [
        {
          "output_type": "execute_result",
          "data": {
            "text/plain": [
              "617.213"
            ],
            "text/latex": "$\\displaystyle 617.213$"
          },
          "metadata": {},
          "execution_count": 35
        }
      ]
    },
    {
      "cell_type": "code",
      "source": [],
      "metadata": {
        "id": "GiPC0uJ64nJX"
      },
      "execution_count": null,
      "outputs": []
    }
  ]
}