{
  "nbformat": 4,
  "nbformat_minor": 0,
  "metadata": {
    "colab": {
      "provenance": []
    },
    "kernelspec": {
      "name": "python3",
      "display_name": "Python 3"
    },
    "language_info": {
      "name": "python"
    }
  },
  "cells": [
    {
      "cell_type": "markdown",
      "source": [
        "[link text](https://)Install GUROBI \n",
        "\n",
        "<https://www.gurobi.com/academia/academic-program-and-licenses/>\n",
        "\n",
        "License: you can get full version or limited version. In this class, limited version (2000 decision variables and 2000 constraints) will be enough.\n",
        "\n",
        "<https://support.gurobi.com/hc/en-us/articles/4409582394769-Google-Colab-Installation-and-Licensing>"
      ],
      "metadata": {
        "id": "KdaeGAjiEGJk"
      }
    },
    {
      "cell_type": "code",
      "execution_count": 2,
      "metadata": {
        "colab": {
          "base_uri": "https://localhost:8080/"
        },
        "id": "DZ_tguh-D8xG",
        "outputId": "b3d9e415-af0a-4ee5-988b-d6e48870d7f2"
      },
      "outputs": [
        {
          "output_type": "stream",
          "name": "stdout",
          "text": [
            "Looking in indexes: https://pypi.org/simple, https://us-python.pkg.dev/colab-wheels/public/simple/\n",
            "Collecting gurobipy\n",
            "  Downloading gurobipy-10.0.1-cp39-cp39-manylinux2014_x86_64.whl (12.8 MB)\n",
            "\u001b[2K     \u001b[90m━━━━━━━━━━━━━━━━━━━━━━━━━━━━━━━━━━━━━━━━\u001b[0m \u001b[32m12.8/12.8 MB\u001b[0m \u001b[31m53.8 MB/s\u001b[0m eta \u001b[36m0:00:00\u001b[0m\n",
            "\u001b[?25hInstalling collected packages: gurobipy\n",
            "Successfully installed gurobipy-10.0.1\n"
          ]
        }
      ],
      "source": [
        "!pip install gurobipy"
      ]
    },
    {
      "cell_type": "code",
      "source": [
        "from gurobipy import *"
      ],
      "metadata": {
        "id": "3G_iGxRiD9X-"
      },
      "execution_count": 3,
      "outputs": []
    },
    {
      "cell_type": "code",
      "source": [
        "t = [\"1\",\"2\",\"3\",\"4\"]\n",
        "d = [40,60,75,25]"
      ],
      "metadata": {
        "id": "ju9Z62LEEQbN"
      },
      "execution_count": 4,
      "outputs": []
    },
    {
      "cell_type": "code",
      "source": [
        "try:\n",
        "    m = Model(\"Sailco\")\n",
        "    \n",
        "    var = []\n",
        "    \n",
        "    var.append([])\n",
        "    for i in range(len(t)):\n",
        "        var[0].append(m.addVar(vtype=GRB.INTEGER, obj = 400, name=\"x_%d\" %(i)))\n",
        "        \n",
        "    var.append([])\n",
        "    for i in range(len(t)):\n",
        "        var[1].append(m.addVar(vtype=GRB.INTEGER, obj = 450, name=\"y_%d\" %(i)))\n",
        "        \n",
        "    var.append([])\n",
        "    var[2].append(10)\n",
        "    for i in range(len(t)):\n",
        "        var[2].append(m.addVar(vtype=GRB.INTEGER, obj = 20, name=\"I_%d\" %(i)))\n",
        "        \n",
        "    m.modelSense = GRB.MINIMIZE\n",
        "    m.update()\n",
        "    \n",
        "    for i in range(len(t)):\n",
        "        m.addConstr(var[0][i] <= 40, \"regular time production limit in period %s\" % var[0][i])\n",
        "        \n",
        "    for i in range(len(t)):\n",
        "        m.addConstr(var[2][i+1] == var[2][i] + var[0][i] + var[1][i] - d[i], \"ending inventory in period %s\" % var[0][i])\n",
        "        \n",
        "    m.optimize()\n",
        "    \n",
        "    for v in m.getVars():\n",
        "        print(v.varName, v.x)\n",
        "            \n",
        "    print(\"Obj:\", m.objVal)\n",
        "    \n",
        "except GurobiError:\n",
        "    print(\"Error reported\") "
      ],
      "metadata": {
        "colab": {
          "base_uri": "https://localhost:8080/"
        },
        "id": "f1L4NsOhESpp",
        "outputId": "2358eb44-3c29-424b-e2c5-6a48876cbb23"
      },
      "execution_count": 5,
      "outputs": [
        {
          "output_type": "stream",
          "name": "stdout",
          "text": [
            "Restricted license - for non-production use only - expires 2024-10-28\n",
            "Gurobi Optimizer version 10.0.1 build v10.0.1rc0 (linux64)\n",
            "\n",
            "CPU model: Intel(R) Xeon(R) CPU @ 2.20GHz, instruction set [SSE2|AVX|AVX2]\n",
            "Thread count: 1 physical cores, 2 logical processors, using up to 2 threads\n",
            "\n",
            "Optimize a model with 8 rows, 12 columns and 19 nonzeros\n",
            "Model fingerprint: 0x820d1624\n",
            "Variable types: 0 continuous, 12 integer (0 binary)\n",
            "Coefficient statistics:\n",
            "  Matrix range     [1e+00, 1e+00]\n",
            "  Objective range  [2e+01, 4e+02]\n",
            "  Bounds range     [0e+00, 0e+00]\n",
            "  RHS range        [2e+01, 8e+01]\n",
            "Found heuristic solution: objective 85500.000000\n",
            "Presolve removed 4 rows and 0 columns\n",
            "Presolve time: 0.00s\n",
            "Presolved: 4 rows, 12 columns, 15 nonzeros\n",
            "Variable types: 0 continuous, 12 integer (0 binary)\n",
            "Found heuristic solution: objective 85300.000000\n",
            "\n",
            "Root relaxation: objective 7.845000e+04, 6 iterations, 0.00 seconds (0.00 work units)\n",
            "\n",
            "    Nodes    |    Current Node    |     Objective Bounds      |     Work\n",
            " Expl Unexpl |  Obj  Depth IntInf | Incumbent    BestBd   Gap | It/Node Time\n",
            "\n",
            "*    0     0               0    78450.000000 78450.0000  0.00%     -    0s\n",
            "\n",
            "Explored 1 nodes (6 simplex iterations) in 0.05 seconds (0.00 work units)\n",
            "Thread count was 2 (of 2 available processors)\n",
            "\n",
            "Solution count 3: 78450 85300 85500 \n",
            "\n",
            "Optimal solution found (tolerance 1.00e-04)\n",
            "Best objective 7.845000000000e+04, best bound 7.845000000000e+04, gap 0.0000%\n",
            "x_0 40.0\n",
            "x_1 40.0\n",
            "x_2 40.0\n",
            "x_3 25.0\n",
            "y_0 -0.0\n",
            "y_1 10.0\n",
            "y_2 35.0\n",
            "y_3 -0.0\n",
            "I_0 10.0\n",
            "I_1 -0.0\n",
            "I_2 -0.0\n",
            "I_3 -0.0\n",
            "Obj: 78450.0\n"
          ]
        }
      ]
    },
    {
      "cell_type": "code",
      "source": [],
      "metadata": {
        "id": "zXio1u9OEV11"
      },
      "execution_count": null,
      "outputs": []
    }
  ]
}