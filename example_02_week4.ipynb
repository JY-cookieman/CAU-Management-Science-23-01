{
  "nbformat": 4,
  "nbformat_minor": 0,
  "metadata": {
    "colab": {
      "provenance": []
    },
    "kernelspec": {
      "name": "python3",
      "display_name": "Python 3"
    },
    "language_info": {
      "name": "python"
    }
  },
  "cells": [
    {
      "cell_type": "markdown",
      "source": [
        "Install GUROBI \n",
        "\n",
        "<https://www.gurobi.com/academia/academic-program-and-licenses/>\n",
        "\n",
        "License: you can get full version or limited version. In this class, limited version (2000 decision variables and 2000 constraints) will be enough.\n",
        "\n",
        "<https://support.gurobi.com/hc/en-us/articles/4409582394769-Google-Colab-Installation-and-Licensing>"
      ],
      "metadata": {
        "id": "j7TX7VkQS3TA"
      }
    },
    {
      "cell_type": "code",
      "source": [
        "!pip install gurobipy"
      ],
      "metadata": {
        "colab": {
          "base_uri": "https://localhost:8080/"
        },
        "id": "FJs5IWu_T8lE",
        "outputId": "f35753a4-0140-4a60-c67f-8fe445309def"
      },
      "execution_count": 4,
      "outputs": [
        {
          "output_type": "stream",
          "name": "stdout",
          "text": [
            "Looking in indexes: https://pypi.org/simple, https://us-python.pkg.dev/colab-wheels/public/simple/\n",
            "Requirement already satisfied: gurobipy in /usr/local/lib/python3.9/dist-packages (10.0.1)\n"
          ]
        }
      ]
    },
    {
      "cell_type": "markdown",
      "source": [
        "Import gurobipy"
      ],
      "metadata": {
        "id": "UP4-5o5IUQ8c"
      }
    },
    {
      "cell_type": "code",
      "execution_count": 5,
      "metadata": {
        "id": "5QMUaAeZSxUg"
      },
      "outputs": [],
      "source": [
        "from gurobipy import *"
      ]
    },
    {
      "cell_type": "markdown",
      "source": [
        "Modeling"
      ],
      "metadata": {
        "id": "0dX63VECUXqo"
      }
    },
    {
      "cell_type": "code",
      "source": [
        "try:\n",
        "  m = Model(\"Blue ridge hot tubs\")\n",
        "\n",
        "  x1 = m.addVar(vtype=GRB.CONTINUOUS, name='x1')\n",
        "  x2 = m.addVar(vtype=GRB.CONTINUOUS, name='x2')\n",
        "  \n",
        "  m.update()\n",
        "  \n",
        "  m.setObjective(350*x1 + 300*x2, GRB.MAXIMIZE)\n",
        "  \n",
        "  m.addConstr(x1 + x2 <= 200, 'c0')\n",
        "  m.addConstr(9*x1 + 6*x2 <= 1566, 'c1')\n",
        "  m.addConstr(12*x1 + 16*x2 <= 2880, 'c2')\n",
        "\n",
        "  m.optimize()\n",
        "\n",
        "  for v in m.getVars():\n",
        "    print(v.varName,\"= \", v.x)\n",
        "  \n",
        "  print(\"Obj:\", m.objVal)\n",
        "\n",
        "except GurobiError:\n",
        "  print(\"Error reported\")"
      ],
      "metadata": {
        "colab": {
          "base_uri": "https://localhost:8080/"
        },
        "id": "u2O4nMj5S2C8",
        "outputId": "52f6ec69-47e4-47d0-9e66-988ac38b54dd"
      },
      "execution_count": 9,
      "outputs": [
        {
          "output_type": "stream",
          "name": "stdout",
          "text": [
            "Gurobi Optimizer version 10.0.1 build v10.0.1rc0 (linux64)\n",
            "\n",
            "CPU model: Intel(R) Xeon(R) CPU @ 2.20GHz, instruction set [SSE2|AVX|AVX2]\n",
            "Thread count: 1 physical cores, 2 logical processors, using up to 2 threads\n",
            "\n",
            "Optimize a model with 3 rows, 2 columns and 6 nonzeros\n",
            "Model fingerprint: 0x2279ac3d\n",
            "Coefficient statistics:\n",
            "  Matrix range     [1e+00, 2e+01]\n",
            "  Objective range  [3e+02, 4e+02]\n",
            "  Bounds range     [0e+00, 0e+00]\n",
            "  RHS range        [2e+02, 3e+03]\n",
            "Presolve time: 0.01s\n",
            "Presolved: 3 rows, 2 columns, 6 nonzeros\n",
            "\n",
            "Iteration    Objective       Primal Inf.    Dual Inf.      Time\n",
            "       0    1.6250000e+32   4.687500e+30   1.625000e+02      0s\n",
            "       2    6.6100000e+04   0.000000e+00   0.000000e+00      0s\n",
            "\n",
            "Solved in 2 iterations and 0.02 seconds (0.00 work units)\n",
            "Optimal objective  6.610000000e+04\n",
            "x1 =  122.0\n",
            "x2 =  78.0\n",
            "Obj: 66100.0\n"
          ]
        }
      ]
    },
    {
      "cell_type": "code",
      "source": [],
      "metadata": {
        "id": "G7jxDoqZW3wB"
      },
      "execution_count": null,
      "outputs": []
    }
  ]
}