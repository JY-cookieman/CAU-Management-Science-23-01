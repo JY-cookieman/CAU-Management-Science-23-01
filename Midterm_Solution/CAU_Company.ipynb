{
  "nbformat": 4,
  "nbformat_minor": 0,
  "metadata": {
    "colab": {
      "provenance": []
    },
    "kernelspec": {
      "name": "python3",
      "display_name": "Python 3"
    },
    "language_info": {
      "name": "python"
    }
  },
  "cells": [
    {
      "cell_type": "code",
      "execution_count": 1,
      "metadata": {
        "colab": {
          "base_uri": "https://localhost:8080/"
        },
        "id": "IQ2sUpWsDkHy",
        "outputId": "38f78f30-08c7-47d2-aced-c29cf17cc70c"
      },
      "outputs": [
        {
          "output_type": "stream",
          "name": "stdout",
          "text": [
            "Looking in indexes: https://pypi.org/simple, https://us-python.pkg.dev/colab-wheels/public/simple/\n",
            "Collecting gurobipy\n",
            "  Downloading gurobipy-10.0.1-cp310-cp310-manylinux2014_x86_64.whl (12.7 MB)\n",
            "\u001b[2K     \u001b[90m━━━━━━━━━━━━━━━━━━━━━━━━━━━━━━━━━━━━━━━━\u001b[0m \u001b[32m12.7/12.7 MB\u001b[0m \u001b[31m25.5 MB/s\u001b[0m eta \u001b[36m0:00:00\u001b[0m\n",
            "\u001b[?25hInstalling collected packages: gurobipy\n",
            "Successfully installed gurobipy-10.0.1\n"
          ]
        }
      ],
      "source": [
        "!pip install gurobipy"
      ]
    },
    {
      "cell_type": "code",
      "source": [
        "from gurobipy import *"
      ],
      "metadata": {
        "id": "JI9D_3ZsDmTu"
      },
      "execution_count": 2,
      "outputs": []
    },
    {
      "cell_type": "code",
      "source": [
        "try:\n",
        "  m = Model(\"CAU Investment\")\n",
        "  Frame = [1, 3]\n",
        "  Elect = [2, 2]\n",
        "  Profit = [1, 2]\n",
        "  Frame_capa = 200\n",
        "  Elect_capa = 300\n",
        "\n",
        "  x_var_names = [\"x\"+str(i+1) for i in range(len(Profit))]\n",
        "\n",
        "  x_var = []\n",
        "  for i in range(len(Profit)):\n",
        "    x_var.append(m.addVar(obj = Profit[i], vtype=GRB.INTEGER, name=\"(%s)\" % (x_var_names[i])))\n",
        "  \n",
        "  m.modelSense = GRB.MAXIMIZE\n",
        "  m.update()\n",
        "\n",
        "  m.addConstr(quicksum(x_var[i] * Frame[i] for i in range(len(Profit))) <= Frame_capa, \"Frame capacity\")\n",
        "  m.addConstr(quicksum(x_var[i] * Elect[i] for i in range(len(Profit))) <= Elect_capa, \"Electrical component capacity\")\n",
        "  m.addConstr(x_var[-1] <= 60, \"Product 2 limit\")\n",
        "\n",
        "  m.optimize()\n",
        "\n",
        "  for v in m.getVars():\n",
        "    print(v.varName, v.x)\n",
        "        \n",
        "  print(\"Obj:\", m.objVal)\n",
        "\n",
        "except GurobiError:\n",
        "  print(\"Error reported\")"
      ],
      "metadata": {
        "colab": {
          "base_uri": "https://localhost:8080/"
        },
        "id": "Ute_92pRDq2Z",
        "outputId": "6ee19f3a-8152-4e7f-98ef-5f7c58305b64"
      },
      "execution_count": 5,
      "outputs": [
        {
          "output_type": "stream",
          "name": "stdout",
          "text": [
            "Restricted license - for non-production use only - expires 2024-10-28\n",
            "Gurobi Optimizer version 10.0.1 build v10.0.1rc0 (linux64)\n",
            "\n",
            "CPU model: Intel(R) Xeon(R) CPU @ 2.20GHz, instruction set [SSE2|AVX|AVX2]\n",
            "Thread count: 1 physical cores, 2 logical processors, using up to 2 threads\n",
            "\n",
            "Optimize a model with 3 rows, 2 columns and 5 nonzeros\n",
            "Model fingerprint: 0xfd7aabf9\n",
            "Variable types: 0 continuous, 2 integer (0 binary)\n",
            "Coefficient statistics:\n",
            "  Matrix range     [1e+00, 3e+00]\n",
            "  Objective range  [1e+00, 2e+00]\n",
            "  Bounds range     [0e+00, 0e+00]\n",
            "  RHS range        [6e+01, 3e+02]\n",
            "Found heuristic solution: objective 150.0000000\n",
            "Presolve removed 1 rows and 0 columns\n",
            "Presolve time: 0.00s\n",
            "Presolved: 2 rows, 2 columns, 4 nonzeros\n",
            "Variable types: 0 continuous, 2 integer (0 binary)\n",
            "Found heuristic solution: objective 151.0000000\n",
            "\n",
            "Root relaxation: objective 1.750000e+02, 2 iterations, 0.00 seconds (0.00 work units)\n",
            "\n",
            "    Nodes    |    Current Node    |     Objective Bounds      |     Work\n",
            " Expl Unexpl |  Obj  Depth IntInf | Incumbent    BestBd   Gap | It/Node Time\n",
            "\n",
            "*    0     0               0     175.0000000  175.00000  0.00%     -    0s\n",
            "\n",
            "Explored 1 nodes (2 simplex iterations) in 0.06 seconds (0.00 work units)\n",
            "Thread count was 2 (of 2 available processors)\n",
            "\n",
            "Solution count 3: 175 151 150 \n",
            "\n",
            "Optimal solution found (tolerance 1.00e-04)\n",
            "Best objective 1.750000000000e+02, best bound 1.750000000000e+02, gap 0.0000%\n",
            "(x1) 125.0\n",
            "(x2) 25.0\n",
            "Obj: 175.0\n"
          ]
        }
      ]
    },
    {
      "cell_type": "code",
      "source": [],
      "metadata": {
        "id": "gH-e2NhaK0ZQ"
      },
      "execution_count": null,
      "outputs": []
    }
  ]
}