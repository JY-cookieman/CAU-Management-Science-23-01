{
  "nbformat": 4,
  "nbformat_minor": 0,
  "metadata": {
    "colab": {
      "provenance": []
    },
    "kernelspec": {
      "name": "python3",
      "display_name": "Python 3"
    },
    "language_info": {
      "name": "python"
    }
  },
  "cells": [
    {
      "cell_type": "code",
      "execution_count": 1,
      "metadata": {
        "colab": {
          "base_uri": "https://localhost:8080/"
        },
        "id": "APtQG5gHgcFY",
        "outputId": "2d546a17-b190-4464-e76e-25c3bd765623"
      },
      "outputs": [
        {
          "output_type": "stream",
          "name": "stdout",
          "text": [
            "Looking in indexes: https://pypi.org/simple, https://us-python.pkg.dev/colab-wheels/public/simple/\n",
            "Collecting gurobipy\n",
            "  Downloading gurobipy-10.0.1-cp310-cp310-manylinux2014_x86_64.whl (12.7 MB)\n",
            "\u001b[2K     \u001b[90m━━━━━━━━━━━━━━━━━━━━━━━━━━━━━━━━━━━━━━━━\u001b[0m \u001b[32m12.7/12.7 MB\u001b[0m \u001b[31m35.1 MB/s\u001b[0m eta \u001b[36m0:00:00\u001b[0m\n",
            "\u001b[?25hInstalling collected packages: gurobipy\n",
            "Successfully installed gurobipy-10.0.1\n"
          ]
        }
      ],
      "source": [
        "!pip install gurobipy"
      ]
    },
    {
      "cell_type": "code",
      "source": [
        "from gurobipy import *"
      ],
      "metadata": {
        "id": "LZWMwE8HgtYJ"
      },
      "execution_count": 2,
      "outputs": []
    },
    {
      "cell_type": "code",
      "source": [
        "try:\n",
        "  m = Model(\"CAU Investment\")\n",
        "\n",
        "  NPV = [16000, 22000, 12000, 8000]\n",
        "  OUT = [5000, 7000, 4000, 3000]\n",
        "  BUD = 14000\n",
        "  MAX = 2\n",
        "\n",
        "  x_var_names = [\"x\"+str(j+1) for j in range(len(NPV))]\n",
        "\n",
        "  x_var = []\n",
        "  for j in range(len(NPV)):\n",
        "    x_var.append(m.addVar(obj = NPV[j], vtype=GRB.BINARY, name=\"(%s)\" % (x_var_names[j])))\n",
        "    \n",
        "  m.modelSense = GRB.MAXIMIZE\n",
        "  m.update()\n",
        "\n",
        "  m.addConstr(quicksum(OUT[i] * x_var[i] for i in range(len(NPV))) <= BUD, \"Budget\")\n",
        "  m.addConstr(quicksum(x_var[i] for i in range(len(NPV))) <= MAX, \"MAX. # investment\")\n",
        "  m.addConstr(x_var[1] <= x_var[0], \"INV 1 should be if INV 2 is\")\n",
        "  m.addConstr(x_var[1] + x_var[-1] <= 1, \"INV 4 should not be if INV 2 is\")\n",
        "\n",
        "  m.optimize()\n",
        "\n",
        "  for v in m.getVars():\n",
        "    print(v.varName, v.x)\n",
        "            \n",
        "  print(\"Obj:\", m.objVal)\n",
        "\n",
        "except GurobiError:\n",
        "  print(\"Error reported\")"
      ],
      "metadata": {
        "colab": {
          "base_uri": "https://localhost:8080/"
        },
        "id": "qcVaxGpmg0Ay",
        "outputId": "a2b97aae-a1c7-45e3-835a-b717abb012a3"
      },
      "execution_count": 5,
      "outputs": [
        {
          "output_type": "stream",
          "name": "stdout",
          "text": [
            "Gurobi Optimizer version 10.0.1 build v10.0.1rc0 (linux64)\n",
            "\n",
            "CPU model: Intel(R) Xeon(R) CPU @ 2.20GHz, instruction set [SSE2|AVX|AVX2]\n",
            "Thread count: 1 physical cores, 2 logical processors, using up to 2 threads\n",
            "\n",
            "Optimize a model with 4 rows, 4 columns and 12 nonzeros\n",
            "Model fingerprint: 0x4383828a\n",
            "Variable types: 0 continuous, 4 integer (4 binary)\n",
            "Coefficient statistics:\n",
            "  Matrix range     [1e+00, 7e+03]\n",
            "  Objective range  [8e+03, 2e+04]\n",
            "  Bounds range     [1e+00, 1e+00]\n",
            "  RHS range        [1e+00, 1e+04]\n",
            "Found heuristic solution: objective 38000.000000\n",
            "Presolve removed 4 rows and 4 columns\n",
            "Presolve time: 0.00s\n",
            "Presolve: All rows and columns removed\n",
            "\n",
            "Explored 0 nodes (0 simplex iterations) in 0.01 seconds (0.00 work units)\n",
            "Thread count was 1 (of 2 available processors)\n",
            "\n",
            "Solution count 1: 38000 \n",
            "\n",
            "Optimal solution found (tolerance 1.00e-04)\n",
            "Best objective 3.800000000000e+04, best bound 3.800000000000e+04, gap 0.0000%\n",
            "(x1) 1.0\n",
            "(x2) 1.0\n",
            "(x3) 0.0\n",
            "(x4) 0.0\n",
            "Obj: 38000.0\n"
          ]
        }
      ]
    },
    {
      "cell_type": "code",
      "source": [],
      "metadata": {
        "id": "T0E-2S50kAsj"
      },
      "execution_count": null,
      "outputs": []
    }
  ]
}