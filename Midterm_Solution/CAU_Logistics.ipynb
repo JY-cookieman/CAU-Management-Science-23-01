{
  "nbformat": 4,
  "nbformat_minor": 0,
  "metadata": {
    "colab": {
      "provenance": []
    },
    "kernelspec": {
      "name": "python3",
      "display_name": "Python 3"
    },
    "language_info": {
      "name": "python"
    }
  },
  "cells": [
    {
      "cell_type": "code",
      "execution_count": 1,
      "metadata": {
        "colab": {
          "base_uri": "https://localhost:8080/"
        },
        "id": "t9WyGURPL2TW",
        "outputId": "8cddd7ab-22e0-423b-9ffe-8cc3d1dabdc4"
      },
      "outputs": [
        {
          "output_type": "stream",
          "name": "stdout",
          "text": [
            "Looking in indexes: https://pypi.org/simple, https://us-python.pkg.dev/colab-wheels/public/simple/\n",
            "Collecting gurobipy\n",
            "  Downloading gurobipy-10.0.1-cp310-cp310-manylinux2014_x86_64.whl (12.7 MB)\n",
            "\u001b[2K     \u001b[90m━━━━━━━━━━━━━━━━━━━━━━━━━━━━━━━━━━━━━━━━\u001b[0m \u001b[32m12.7/12.7 MB\u001b[0m \u001b[31m30.9 MB/s\u001b[0m eta \u001b[36m0:00:00\u001b[0m\n",
            "\u001b[?25hInstalling collected packages: gurobipy\n",
            "Successfully installed gurobipy-10.0.1\n"
          ]
        }
      ],
      "source": [
        "!pip install gurobipy"
      ]
    },
    {
      "cell_type": "code",
      "source": [
        "from gurobipy import *"
      ],
      "metadata": {
        "id": "F6lDmsoeL3dd"
      },
      "execution_count": 2,
      "outputs": []
    },
    {
      "cell_type": "code",
      "source": [
        "try:\n",
        "  m = Model(\"CAU Logistics\")\n",
        "\n",
        "  cost_ij = [[8,14,32,29],[10,13,30,26]]\n",
        "  cost_jk = [[17,18],[15,17]]\n",
        "  capa_1 = [150,130]\n",
        "  capa_2 = [100,120]\n",
        "  demand = [140,140]\n",
        "\n",
        "  x_var_names_1 = [[\"x\"+str(i+1)+str(j+3) for j in range(len(cost_ij[0]))] for i in range(len(cost_ij))]\n",
        "  x_var_names_2 = [[\"x\"+str(i+3)+str(j+5) for j in range(len(cost_jk[0]))] for i in range(len(cost_jk))]\n",
        "\n",
        "  x_var_1 = []\n",
        "  for i in range(len(cost_ij)):\n",
        "    x_var_1.append([])\n",
        "    for j in range(len(cost_ij[0])):\n",
        "      x_var_1[i].append(m.addVar(obj = cost_ij[i][j], vtype=GRB.INTEGER, name=\"(%s)\" % (x_var_names_1[i][j])))\n",
        "\n",
        "  x_var_2 = []\n",
        "  for i in range(len(cost_jk)):\n",
        "    x_var_2.append([])\n",
        "    for j in range(len(cost_jk[0])):\n",
        "      x_var_2[i].append(m.addVar(obj = cost_jk[i][j], vtype=GRB.INTEGER, name=\"(%s)\" % (x_var_names_2[i][j])))\n",
        "  \n",
        "  m.modelSense = GRB.MINIMIZE\n",
        "  m.update()\n",
        "\n",
        "  for i in range(len(cost_ij)):\n",
        "    m.addConstr(quicksum(x_var_1[i][j] for j in range(len(cost_ij[i]))) == capa_1[i], \"capacity at manufacturer\")\n",
        "\n",
        "  for i in range(len(cost_jk)):\n",
        "    m.addConstr(quicksum(x_var_2[i][j] for j in range(len(cost_jk[i]))) <= capa_2[i], \"capacity at intermediate\")\n",
        "\n",
        "  for j in range(len(demand)):\n",
        "    m.addConstr(quicksum(x_var_1[i][j+2] for i in range(len(cost_ij))) + quicksum(x_var_2[i][j] for i in range(len(cost_jk))) == demand[j], \"demand satisfaction\")\n",
        "\n",
        "  for j in range(len(cost_jk)):\n",
        "    m.addConstr(quicksum(x_var_1[i][j] for i in range(len(cost_ij))) == quicksum(x_var_2[j][k] for k in range(len(demand))), \"flow balance\")\n",
        "\n",
        "  m.optimize()\n",
        "\n",
        "  for v in m.getVars():\n",
        "    print(v.varName, v.x)\n",
        "            \n",
        "  print(\"Obj:\", m.objVal)\n",
        "\n",
        "except GurobiError:\n",
        "  print(\"Error reported\")"
      ],
      "metadata": {
        "colab": {
          "base_uri": "https://localhost:8080/"
        },
        "id": "iFHI79rSL8c8",
        "outputId": "3a88f4d1-2753-48fd-cead-94cbed57a883"
      },
      "execution_count": 4,
      "outputs": [
        {
          "output_type": "stream",
          "name": "stdout",
          "text": [
            "Restricted license - for non-production use only - expires 2024-10-28\n",
            "Gurobi Optimizer version 10.0.1 build v10.0.1rc0 (linux64)\n",
            "\n",
            "CPU model: Intel(R) Xeon(R) CPU @ 2.20GHz, instruction set [SSE2|AVX|AVX2]\n",
            "Thread count: 1 physical cores, 2 logical processors, using up to 2 threads\n",
            "\n",
            "Optimize a model with 8 rows, 12 columns and 28 nonzeros\n",
            "Model fingerprint: 0xfb122fc2\n",
            "Variable types: 0 continuous, 12 integer (0 binary)\n",
            "Coefficient statistics:\n",
            "  Matrix range     [1e+00, 1e+00]\n",
            "  Objective range  [8e+00, 3e+01]\n",
            "  Bounds range     [0e+00, 0e+00]\n",
            "  RHS range        [1e+02, 2e+02]\n",
            "Found heuristic solution: objective 8060.0000000\n",
            "Presolve time: 0.00s\n",
            "Presolved: 8 rows, 12 columns, 28 nonzeros\n",
            "Variable types: 0 continuous, 12 integer (0 binary)\n",
            "\n",
            "Root relaxation: objective 7.330000e+03, 7 iterations, 0.00 seconds (0.00 work units)\n",
            "\n",
            "    Nodes    |    Current Node    |     Objective Bounds      |     Work\n",
            " Expl Unexpl |  Obj  Depth IntInf | Incumbent    BestBd   Gap | It/Node Time\n",
            "\n",
            "*    0     0               0    7330.0000000 7330.00000  0.00%     -    0s\n",
            "\n",
            "Explored 1 nodes (7 simplex iterations) in 0.03 seconds (0.00 work units)\n",
            "Thread count was 2 (of 2 available processors)\n",
            "\n",
            "Solution count 2: 7330 8060 \n",
            "\n",
            "Optimal solution found (tolerance 1.00e-04)\n",
            "Best objective 7.330000000000e+03, best bound 7.330000000000e+03, gap 0.0000%\n",
            "(x13) 100.0\n",
            "(x14) 40.0\n",
            "(x15) -0.0\n",
            "(x16) 10.0\n",
            "(x23) 0.0\n",
            "(x24) -0.0\n",
            "(x25) -0.0\n",
            "(x26) 130.0\n",
            "(x35) 100.0\n",
            "(x36) -0.0\n",
            "(x45) 40.0\n",
            "(x46) -0.0\n",
            "Obj: 7330.0\n"
          ]
        }
      ]
    },
    {
      "cell_type": "code",
      "source": [],
      "metadata": {
        "id": "LzJ2ck8Gah9C"
      },
      "execution_count": null,
      "outputs": []
    }
  ]
}