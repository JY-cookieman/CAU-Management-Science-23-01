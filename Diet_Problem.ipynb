{
  "nbformat": 4,
  "nbformat_minor": 0,
  "metadata": {
    "colab": {
      "provenance": []
    },
    "kernelspec": {
      "name": "python3",
      "display_name": "Python 3"
    },
    "language_info": {
      "name": "python"
    }
  },
  "cells": [
    {
      "cell_type": "markdown",
      "source": [
        "Install GUROBI \n",
        "\n",
        "<https://www.gurobi.com/academia/academic-program-and-licenses/>\n",
        "\n",
        "License: you can get full version or limited version. In this class, limited version (2000 decision variables and 2000 constraints) will be enough.\n",
        "\n",
        "<https://support.gurobi.com/hc/en-us/articles/4409582394769-Google-Colab-Installation-and-Licensing>"
      ],
      "metadata": {
        "id": "XrAAwd2pQDzA"
      }
    },
    {
      "cell_type": "code",
      "execution_count": 1,
      "metadata": {
        "colab": {
          "base_uri": "https://localhost:8080/"
        },
        "id": "OowUffo3QBTv",
        "outputId": "42e7ba05-a2b7-41de-e075-df8ac31f823d"
      },
      "outputs": [
        {
          "output_type": "stream",
          "name": "stdout",
          "text": [
            "Looking in indexes: https://pypi.org/simple, https://us-python.pkg.dev/colab-wheels/public/simple/\n",
            "Collecting gurobipy\n",
            "  Downloading gurobipy-10.0.1-cp39-cp39-manylinux2014_x86_64.whl (12.8 MB)\n",
            "\u001b[2K     \u001b[90m━━━━━━━━━━━━━━━━━━━━━━━━━━━━━━━━━━━━━━━━\u001b[0m \u001b[32m12.8/12.8 MB\u001b[0m \u001b[31m42.5 MB/s\u001b[0m eta \u001b[36m0:00:00\u001b[0m\n",
            "\u001b[?25hInstalling collected packages: gurobipy\n",
            "Successfully installed gurobipy-10.0.1\n"
          ]
        }
      ],
      "source": [
        "!pip install gurobipy"
      ]
    },
    {
      "cell_type": "code",
      "source": [
        "from gurobipy import *"
      ],
      "metadata": {
        "id": "Vgfy8bBdQG_s"
      },
      "execution_count": 2,
      "outputs": []
    },
    {
      "cell_type": "code",
      "source": [
        "try:\n",
        "  m = Model(\"Diet_Problem\")\n",
        "\n",
        "  #Define decision variables\n",
        "  x_1 =  m.addVar(vtype=GRB.CONTINUOUS, name=\"Bean_Cereal\")\n",
        "  x_2 =  m.addVar(vtype=GRB.CONTINUOUS, name=\"Dry_Cereal\")\n",
        "  x_3 =  m.addVar(vtype=GRB.CONTINUOUS, name=\"Oatmeal\")\n",
        "  x_4 =  m.addVar(vtype=GRB.CONTINUOUS, name=\"Oat_bran\")\n",
        "  x_5 =  m.addVar(vtype=GRB.CONTINUOUS, name=\"Eff\")\n",
        "  x_6 =  m.addVar(vtype=GRB.CONTINUOUS, name=\"Bacon\")\n",
        "  x_7 =  m.addVar(vtype=GRB.CONTINUOUS, name=\"Orange\")\n",
        "  x_8 =  m.addVar(vtype=GRB.CONTINUOUS, name=\"Milk\")\n",
        "  x_9 =  m.addVar(vtype=GRB.CONTINUOUS, name=\"Orange_Juice\")\n",
        "  x_10 = m.addVar(vtype=GRB.CONTINUOUS, name=\"Wheat_Toast\")\n",
        "\n",
        "  m.update()\n",
        "\n",
        "  m.setObjective(0.18*x_1 + 0.22*x_2 + 0.10*x_3 + 0.12*x_4 + 0.10*x_5 + 0.09*x_6 + 0.40*x_7 + 0.16*x_8 + 0.50*x_9 + 0.07*x_10, GRB.MINIMIZE)\n",
        "\n",
        "  m.addConstr(90*x_1 + 110*x_2 + 100*x_3 + 90*x_4 +  75*x_5 + 35*x_6 + 65*x_7 + 100*x_8 + 120*x_9 + 65*x_10 >= 420, \"Calories\")\n",
        "  m.addConstr(0 *x_1 +  2 *x_2 +  2 *x_3 + 2 *x_4 +  5 *x_5 + 3 *x_6 + 0 *x_7 +  4 *x_8 +  0 *x_9 + 1 *x_10 <=  20, \"Fat\")\n",
        "  m.addConstr(0 *x_1 +  0 *x_2 +  0 *x_3 + 0 *x_4 + 270*x_5 + 8 *x_6 + 0 *x_7 + 12 *x_8 +  0 *x_9 + 0 *x_10 <=  30, \"Cholesterol\")\n",
        "  m.addConstr(6 *x_1 +  4 *x_2 +  2 *x_3 + 3 *x_4 +  1 *x_5 + 0 *x_6 + 1 *x_7 +  0 *x_8 +  0 *x_9 + 1 *x_10 >=   5, \"Iron\")\n",
        "  m.addConstr(20*x_1 + 48 *x_2 + 12 *x_3 + 8 *x_4 + 30 *x_5 + 0 *x_6 + 52*x_7 + 250*x_8 +  3 *x_9 + 26*x_10 >= 400, \"Calcium\")\n",
        "  m.addConstr(3 *x_1 +  4 *x_2 +  5 *x_3 + 6 *x_4 +  7 *x_5 + 2 *x_6 + 1 *x_7 +  9 *x_8 +  1 *x_9 + 3 *x_10 >=  20, \"Protein\")\n",
        "  m.addConstr(5 *x_1 +  2 *x_2 +  3 *x_3 + 4 *x_4 +  0 *x_5 + 0 *x_6 + 1 *x_7 +  0 *x_8 +  0 *x_9 + 3 *x_10 >=  12, \"Fiber\")\n",
        "\n",
        "  m.optimize()\n",
        "\n",
        "  for v in m.getVars():\n",
        "    print(v.varName, v.x)\n",
        "\n",
        "  print(\"Obj:\", m.objVal)\n",
        "\n",
        "except GurobiError:\n",
        "  print(\"Error reported\")"
      ],
      "metadata": {
        "colab": {
          "base_uri": "https://localhost:8080/"
        },
        "id": "oFB10jhMQSAY",
        "outputId": "1223aa00-516c-4d7d-a262-44beda45196b"
      },
      "execution_count": 3,
      "outputs": [
        {
          "output_type": "stream",
          "name": "stdout",
          "text": [
            "Restricted license - for non-production use only - expires 2024-10-28\n",
            "Gurobi Optimizer version 10.0.1 build v10.0.1rc0 (linux64)\n",
            "\n",
            "CPU model: Intel(R) Xeon(R) CPU @ 2.20GHz, instruction set [SSE2|AVX|AVX2]\n",
            "Thread count: 1 physical cores, 2 logical processors, using up to 2 threads\n",
            "\n",
            "Optimize a model with 7 rows, 10 columns and 52 nonzeros\n",
            "Model fingerprint: 0x2f0a0130\n",
            "Coefficient statistics:\n",
            "  Matrix range     [1e+00, 3e+02]\n",
            "  Objective range  [7e-02, 5e-01]\n",
            "  Bounds range     [0e+00, 0e+00]\n",
            "  RHS range        [5e+00, 4e+02]\n",
            "Presolve removed 0 rows and 1 columns\n",
            "Presolve time: 0.03s\n",
            "Presolved: 7 rows, 9 columns, 49 nonzeros\n",
            "\n",
            "Iteration    Objective       Primal Inf.    Dual Inf.      Time\n",
            "       0    0.0000000e+00   7.512500e+01   0.000000e+00      0s\n",
            "       3    5.0935961e-01   0.000000e+00   0.000000e+00      0s\n",
            "\n",
            "Solved in 3 iterations and 0.04 seconds (0.00 work units)\n",
            "Optimal objective  5.093596059e-01\n",
            "Bean_Cereal 0.0\n",
            "Dry_Cereal 0.0\n",
            "Oatmeal 1.0246305418719206\n",
            "Oat_bran 0.0\n",
            "Eff 0.0\n",
            "Bacon 0.0\n",
            "Orange 0.0\n",
            "Milk 1.2413793103448276\n",
            "Orange_Juice 0.0\n",
            "Wheat_Toast 2.9753694581280796\n",
            "Obj: 0.5093596059113301\n"
          ]
        }
      ]
    },
    {
      "cell_type": "code",
      "source": [],
      "metadata": {
        "id": "rTWs2l9wU8xT"
      },
      "execution_count": null,
      "outputs": []
    }
  ]
}