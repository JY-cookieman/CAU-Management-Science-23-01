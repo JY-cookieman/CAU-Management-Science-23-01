{
  "nbformat": 4,
  "nbformat_minor": 0,
  "metadata": {
    "colab": {
      "provenance": []
    },
    "kernelspec": {
      "name": "python3",
      "display_name": "Python 3"
    },
    "language_info": {
      "name": "python"
    }
  },
  "cells": [
    {
      "cell_type": "markdown",
      "source": [
        "Install GUROBI \n",
        "\n",
        "<https://www.gurobi.com/academia/academic-program-and-licenses/>\n",
        "\n",
        "License: you can get full version or limited version. In this class, limited version (2000 decision variables and 2000 constraints) will be enough.\n",
        "\n",
        "<https://support.gurobi.com/hc/en-us/articles/4409582394769-Google-Colab-Installation-and-Licensing>"
      ],
      "metadata": {
        "id": "jdMP2FAfXLKk"
      }
    },
    {
      "cell_type": "code",
      "execution_count": 1,
      "metadata": {
        "colab": {
          "base_uri": "https://localhost:8080/"
        },
        "id": "Jf3BDcimWy7u",
        "outputId": "18b1d232-e076-47c8-e0d5-acb713ea39b7"
      },
      "outputs": [
        {
          "output_type": "stream",
          "name": "stdout",
          "text": [
            "Looking in indexes: https://pypi.org/simple, https://us-python.pkg.dev/colab-wheels/public/simple/\n",
            "Collecting gurobipy\n",
            "  Downloading gurobipy-10.0.1-cp39-cp39-manylinux2014_x86_64.whl (12.8 MB)\n",
            "\u001b[2K     \u001b[90m━━━━━━━━━━━━━━━━━━━━━━━━━━━━━━━━━━━━━━━━\u001b[0m \u001b[32m12.8/12.8 MB\u001b[0m \u001b[31m53.4 MB/s\u001b[0m eta \u001b[36m0:00:00\u001b[0m\n",
            "\u001b[?25hInstalling collected packages: gurobipy\n",
            "Successfully installed gurobipy-10.0.1\n"
          ]
        }
      ],
      "source": [
        "!pip install gurobipy"
      ]
    },
    {
      "cell_type": "code",
      "source": [
        "from gurobipy import *"
      ],
      "metadata": {
        "id": "qLZji_PLXN7r"
      },
      "execution_count": 2,
      "outputs": []
    },
    {
      "cell_type": "code",
      "source": [
        "try:\n",
        "  investment = [\"I1\", \"I2\", \"I3\", \"I4\", \"I5\"]\n",
        "  NPV = [13,16,16,14,39]\n",
        "  cost = [[11,53,5,5,29],\n",
        "          [ 3, 6,5,1,34]]\n",
        "  budget = [40,20]\n",
        "\n",
        "  m = Model(\"Project_Selection\")\n",
        "  investment_fraction = []\n",
        "\n",
        "  for i in range(len(investment)):\n",
        "    investment_fraction.append(m.addVar(obj = NPV[i], vtype=GRB.CONTINUOUS, name=\"(%s)\" % (investment[i])))\n",
        "  \n",
        "  m.modelSense = GRB.MAXIMIZE\n",
        "  m.update()\n",
        "\n",
        "  for t in range(len(cost)):\n",
        "    m.addConstr(quicksum(cost[t][c] * investment_fraction[c] for c in range(len(investment))) <= budget[t], \"Project %s\" % investment[t])\n",
        "\n",
        "  for i in range(len(investment)):\n",
        "    m.addConstr(investment_fraction[i] <= 1, \"Upperbound %s\" % investment[i])\n",
        "  \n",
        "  m.optimize()\n",
        "\n",
        "  for v in m.getVars():\n",
        "    print(v.varName, v.x)\n",
        "\n",
        "  print(\"Obj:\", m.objVal)\n",
        "\n",
        "except GurobiError:\n",
        "  print(\"Error reported\")"
      ],
      "metadata": {
        "colab": {
          "base_uri": "https://localhost:8080/"
        },
        "id": "YYNQ9zPeXUd3",
        "outputId": "e4b9b5f1-d0b8-46a4-a8d0-7a7b88d06c68"
      },
      "execution_count": 4,
      "outputs": [
        {
          "output_type": "stream",
          "name": "stdout",
          "text": [
            "Gurobi Optimizer version 10.0.1 build v10.0.1rc0 (linux64)\n",
            "\n",
            "CPU model: Intel(R) Xeon(R) CPU @ 2.20GHz, instruction set [SSE2|AVX|AVX2]\n",
            "Thread count: 1 physical cores, 2 logical processors, using up to 2 threads\n",
            "\n",
            "Optimize a model with 7 rows, 5 columns and 15 nonzeros\n",
            "Model fingerprint: 0xe4029bee\n",
            "Coefficient statistics:\n",
            "  Matrix range     [1e+00, 5e+01]\n",
            "  Objective range  [1e+01, 4e+01]\n",
            "  Bounds range     [0e+00, 0e+00]\n",
            "  RHS range        [1e+00, 4e+01]\n",
            "Presolve removed 5 rows and 0 columns\n",
            "Presolve time: 0.01s\n",
            "Presolved: 2 rows, 5 columns, 10 nonzeros\n",
            "\n",
            "Iteration    Objective       Primal Inf.    Dual Inf.      Time\n",
            "       0    1.2800000e+02   9.500000e+00   0.000000e+00      0s\n",
            "       2    5.7449017e+01   0.000000e+00   0.000000e+00      0s\n",
            "\n",
            "Solved in 2 iterations and 0.02 seconds (0.00 work units)\n",
            "Optimal objective  5.744901720e+01\n",
            "(I1) 1.0\n",
            "(I2) 0.20085995085995084\n",
            "(I3) 1.0\n",
            "(I4) 1.0\n",
            "(I5) 0.2880835380835381\n",
            "Obj: 57.449017199017206\n"
          ]
        }
      ]
    },
    {
      "cell_type": "code",
      "source": [],
      "metadata": {
        "id": "HooBOzpqY77R"
      },
      "execution_count": null,
      "outputs": []
    }
  ]
}