{
  "nbformat": 4,
  "nbformat_minor": 0,
  "metadata": {
    "colab": {
      "provenance": []
    },
    "kernelspec": {
      "name": "python3",
      "display_name": "Python 3"
    },
    "language_info": {
      "name": "python"
    }
  },
  "cells": [
    {
      "cell_type": "markdown",
      "source": [
        "# 1. Import required module(s)\n",
        "\n",
        "To generate random numbers, we import `random`."
      ],
      "metadata": {
        "id": "2t2CO3Gwkzi2"
      }
    },
    {
      "cell_type": "code",
      "execution_count": 1,
      "metadata": {
        "id": "-RmGZXiVjzFp"
      },
      "outputs": [],
      "source": [
        "import random"
      ]
    },
    {
      "cell_type": "markdown",
      "source": [
        "# 2. Prepare empty lists for the area of a squre and the area of a circle."
      ],
      "metadata": {
        "id": "0FKcuW8rlLEo"
      }
    },
    {
      "cell_type": "code",
      "source": [
        "x_mat = []\n",
        "y_mat = []\n",
        "\n",
        "x_c_mat = []\n",
        "y_c_mat = []"
      ],
      "metadata": {
        "id": "mLALSFajj2AT"
      },
      "execution_count": 2,
      "outputs": []
    },
    {
      "cell_type": "markdown",
      "source": [
        "# 3. Set the number of dots.\n",
        "\n",
        "- As the number of dots increases, the result will be more accurate."
      ],
      "metadata": {
        "id": "xWoX6ZtjldTr"
      }
    },
    {
      "cell_type": "code",
      "source": [
        "size = 500000"
      ],
      "metadata": {
        "id": "nfoz8wmGj_Jc"
      },
      "execution_count": 6,
      "outputs": []
    },
    {
      "cell_type": "markdown",
      "source": [
        "## 3.1 Using `while` loop, placing `500000` dots in the plane."
      ],
      "metadata": {
        "id": "Z87TYqnLlvLD"
      }
    },
    {
      "cell_type": "code",
      "source": [
        "i = 0\n",
        "while True:\n",
        "  if i == size:\n",
        "    break\n",
        "  else:\n",
        "    x = random.uniform(-1, 1)\n",
        "    y = random.uniform(-1, 1)\n",
        "\n",
        "    x_mat.append(x)\n",
        "    y_mat.append(y)\n",
        "\n",
        "    if x**2 + y**2 <= 1:\n",
        "      x_c_mat.append(x)\n",
        "      y_c_mat.append(y)\n",
        "    \n",
        "    i = i + 1"
      ],
      "metadata": {
        "id": "pcguad4DkCAS"
      },
      "execution_count": 7,
      "outputs": []
    },
    {
      "cell_type": "markdown",
      "source": [
        "# 3.2 Compute the value of $\\pi$."
      ],
      "metadata": {
        "id": "XEgW7Cv8l_S_"
      }
    },
    {
      "cell_type": "code",
      "source": [
        "print(\"pi =\",round((4/1) * (len(x_c_mat)/len(x_mat)),7))"
      ],
      "metadata": {
        "colab": {
          "base_uri": "https://localhost:8080/"
        },
        "id": "hWgYlxpOkgZs",
        "outputId": "77aace91-9d2b-4f56-802b-0f76355a5d8e"
      },
      "execution_count": 30,
      "outputs": [
        {
          "output_type": "stream",
          "name": "stdout",
          "text": [
            "pi = 3.141996\n"
          ]
        }
      ]
    },
    {
      "cell_type": "code",
      "source": [],
      "metadata": {
        "id": "nwRGIg5Gkpgo"
      },
      "execution_count": null,
      "outputs": []
    }
  ]
}