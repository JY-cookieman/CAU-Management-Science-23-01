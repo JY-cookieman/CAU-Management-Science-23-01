{
  "nbformat": 4,
  "nbformat_minor": 0,
  "metadata": {
    "colab": {
      "provenance": []
    },
    "kernelspec": {
      "name": "python3",
      "display_name": "Python 3"
    },
    "language_info": {
      "name": "python"
    }
  },
  "cells": [
    {
      "cell_type": "markdown",
      "source": [
        "# 1. Import required modules"
      ],
      "metadata": {
        "id": "Bqgj_QeKSjdb"
      }
    },
    {
      "cell_type": "code",
      "execution_count": null,
      "metadata": {
        "id": "zulO93iTMoDL"
      },
      "outputs": [],
      "source": [
        "import numpy as np\n",
        "import matplotlib.pyplot as plt"
      ]
    },
    {
      "cell_type": "markdown",
      "source": [
        "# 2. We are calculating total activity time of a project that is composed of three activities.\n",
        "\n",
        "## 2.1 Create empty lists for three activities\n",
        "\n",
        "- `act_time_1_mat` for activity 1\n",
        "- `act_time_2_mat` for activity 2\n",
        "- `act_time_3_mat` for activity 3"
      ],
      "metadata": {
        "id": "9nWj5T7RSuJy"
      }
    },
    {
      "cell_type": "code",
      "source": [
        "act_time_1_mat = []\n",
        "act_time_2_mat = []\n",
        "act_time_3_mat = []\n",
        "total_time_mat = []"
      ],
      "metadata": {
        "id": "5jXocXIOObUh"
      },
      "execution_count": null,
      "outputs": []
    },
    {
      "cell_type": "markdown",
      "source": [
        "## 2.2 Repeat 5000 times with specific probability distribution for each activity"
      ],
      "metadata": {
        "id": "ON_lwjPLUF6H"
      }
    },
    {
      "cell_type": "code",
      "source": [
        "iteration = 5000"
      ],
      "metadata": {
        "id": "pHKxrNcfOnow"
      },
      "execution_count": null,
      "outputs": []
    },
    {
      "cell_type": "markdown",
      "source": [
        "- `while` loop instead of `for` loop"
      ],
      "metadata": {
        "id": "ViUPuVnwUW_4"
      }
    },
    {
      "cell_type": "code",
      "source": [
        "i = 0\n",
        "while True:\n",
        "  if i == iteration:\n",
        "    break\n",
        "  else:\n",
        "    act_time_1 = round(np.random.normal(loc=70, scale=9, size=1)[0], 0)\n",
        "    act_time_2 = round(np.random.normal(loc=30, scale=6, size=1)[0], 0)\n",
        "    act_time_3 = round(np.random.normal(loc=50, scale=7, size=1)[0], 0)\n",
        "    total_time = act_time_1 + act_time_2 + act_time_3\n",
        "\n",
        "    act_time_1_mat.append(act_time_1)\n",
        "    act_time_2_mat.append(act_time_2)\n",
        "    act_time_3_mat.append(act_time_3)\n",
        "    total_time_mat.append(total_time)\n",
        "\n",
        "    i = i + 1"
      ],
      "metadata": {
        "id": "Ok2B8ztNOp2E"
      },
      "execution_count": null,
      "outputs": []
    },
    {
      "cell_type": "markdown",
      "source": [
        "- Develop a histogram with data generated from the loop"
      ],
      "metadata": {
        "id": "AV8oyd3JUjKF"
      }
    },
    {
      "cell_type": "code",
      "source": [
        "counts, bins, bars = plt.hist(total_time_mat, histtype='stepfilled', alpha=0.3, bins=50)"
      ],
      "metadata": {
        "colab": {
          "base_uri": "https://localhost:8080/",
          "height": 430
        },
        "id": "m2BDnUVJPczG",
        "outputId": "3630fd60-ec63-484c-c352-57877ccea11c"
      },
      "execution_count": null,
      "outputs": [
        {
          "output_type": "display_data",
          "data": {
            "text/plain": [
              "<Figure size 640x480 with 1 Axes>"
            ],
            "image/png": "[encoded data removed]"
          },
          "metadata": {}
        }
      ]
    },
    {
      "cell_type": "markdown",
      "source": [
        "## 2.3 Calcuate the probability that the project can be competed in a certain time length"
      ],
      "metadata": {
        "id": "wtnryq9eU1wk"
      }
    },
    {
      "cell_type": "markdown",
      "source": [
        "- Set a target"
      ],
      "metadata": {
        "id": "EB2Bz3F6VJPc"
      }
    },
    {
      "cell_type": "code",
      "source": [
        "target = 150"
      ],
      "metadata": {
        "id": "j4GG1bDIPoPy"
      },
      "execution_count": null,
      "outputs": []
    },
    {
      "cell_type": "code",
      "source": [
        "index = 0"
      ],
      "metadata": {
        "id": "hOH68AXYP6Ll"
      },
      "execution_count": null,
      "outputs": []
    },
    {
      "cell_type": "code",
      "source": [
        "cum = counts[0]"
      ],
      "metadata": {
        "id": "nXobOc7lP7df"
      },
      "execution_count": null,
      "outputs": []
    },
    {
      "cell_type": "code",
      "source": [
        "while True:\n",
        "  if target > bins[-1]:\n",
        "    print(1)\n",
        "    break\n",
        "  if target < bins[0]:\n",
        "    print(0)\n",
        "    break\n",
        "  if index == len(bins) - 1:\n",
        "    break\n",
        "  else:\n",
        "    if bins[index] <= target <= bins[index + 1]:\n",
        "      print(cum/len(total_time_mat))\n",
        "      break\n",
        "    else:\n",
        "      index = index + 1\n",
        "      cum = cum + counts[index]"
      ],
      "metadata": {
        "colab": {
          "base_uri": "https://localhost:8080/"
        },
        "id": "4jxTHSszQBk-",
        "outputId": "6afa52ca-6577-4cfd-fd30-a507817dc3ea"
      },
      "execution_count": null,
      "outputs": [
        {
          "output_type": "stream",
          "name": "stdout",
          "text": [
            "0.5228\n"
          ]
        }
      ]
    },
    {
      "cell_type": "code",
      "source": [],
      "metadata": {
        "id": "GuGghgVLRIna"
      },
      "execution_count": null,
      "outputs": []
    }
  ]
}