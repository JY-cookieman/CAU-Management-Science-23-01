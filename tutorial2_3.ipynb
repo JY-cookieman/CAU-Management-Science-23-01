{
  "nbformat": 4,
  "nbformat_minor": 0,
  "metadata": {
    "colab": {
      "provenance": []
    },
    "kernelspec": {
      "name": "python3",
      "display_name": "Python 3"
    },
    "language_info": {
      "name": "python"
    }
  },
  "cells": [
    {
      "cell_type": "markdown",
      "source": [
        "# 1. Array\n",
        "\n",
        "To call Numpy module, import `numpy` as `np`\n",
        "Create 1-dimentional vector with name 'test_array' as following."
      ],
      "metadata": {
        "id": "VQDJu_JQ1BEZ"
      }
    },
    {
      "cell_type": "code",
      "source": [
        "import numpy as np\n",
        "test_array = np.array([1,4,5,8], float)\n",
        "print(test_array)"
      ],
      "metadata": {
        "colab": {
          "base_uri": "https://localhost:8080/"
        },
        "id": "GTCDk9Wd_EjA",
        "outputId": "696efe9f-af20-418e-858f-7668ba478f7e"
      },
      "execution_count": null,
      "outputs": [
        {
          "output_type": "stream",
          "name": "stdout",
          "text": [
            "[1. 4. 5. 8.]\n"
          ]
        }
      ]
    },
    {
      "cell_type": "code",
      "source": [
        "print(type(test_array))\n",
        "print(type(test_array[3]))"
      ],
      "metadata": {
        "colab": {
          "base_uri": "https://localhost:8080/"
        },
        "id": "aPa8EhNqADWp",
        "outputId": "d0f6055d-0bfb-479f-ce25-d9b005224039"
      },
      "execution_count": null,
      "outputs": [
        {
          "output_type": "stream",
          "name": "stdout",
          "text": [
            "<class 'numpy.ndarray'>\n",
            "<class 'numpy.float64'>\n"
          ]
        }
      ]
    },
    {
      "cell_type": "markdown",
      "source": [
        "Various Slicing"
      ],
      "metadata": {
        "id": "_lVrVSNnAZFx"
      }
    },
    {
      "cell_type": "code",
      "execution_count": null,
      "metadata": {
        "colab": {
          "base_uri": "https://localhost:8080/"
        },
        "id": "AS8DUyf4rJLm",
        "outputId": "a1674e45-5069-463a-fd6f-2bc9b2547939"
      },
      "outputs": [
        {
          "output_type": "stream",
          "name": "stdout",
          "text": [
            "[[ 3  4  5]\n",
            " [ 8  9 10]]\n"
          ]
        }
      ],
      "source": [
        "import numpy as np\n",
        "a = np.array([[1,2,3,4,5],[6,7,8,9,10]], int)\n",
        "b = a[:,2:]\n",
        "print(b)"
      ]
    },
    {
      "cell_type": "code",
      "source": [
        "c = a[1,1:3]\n",
        "print(c)"
      ],
      "metadata": {
        "colab": {
          "base_uri": "https://localhost:8080/"
        },
        "id": "6AWdrn-yrkpz",
        "outputId": "ddb53288-a842-478b-9af6-39705cc4b490"
      },
      "execution_count": null,
      "outputs": [
        {
          "output_type": "stream",
          "name": "stdout",
          "text": [
            "[7 8]\n"
          ]
        }
      ]
    },
    {
      "cell_type": "code",
      "source": [
        "d = a[1:]\n",
        "print(d)"
      ],
      "metadata": {
        "colab": {
          "base_uri": "https://localhost:8080/"
        },
        "id": "U2kM594RsQjn",
        "outputId": "d7ca1958-5bd9-4d3e-9239-a7c96e052dc9"
      },
      "execution_count": null,
      "outputs": [
        {
          "output_type": "stream",
          "name": "stdout",
          "text": [
            "[[ 6  7  8  9 10]]\n"
          ]
        }
      ]
    },
    {
      "cell_type": "code",
      "source": [
        "print(a[0:])"
      ],
      "metadata": {
        "colab": {
          "base_uri": "https://localhost:8080/"
        },
        "id": "dRn3kGArsrY0",
        "outputId": "59284dd3-fd52-480d-e410-ffab38f918a7"
      },
      "execution_count": null,
      "outputs": [
        {
          "output_type": "stream",
          "name": "stdout",
          "text": [
            "[[ 1  2  3  4  5]\n",
            " [ 6  7  8  9 10]]\n"
          ]
        }
      ]
    },
    {
      "cell_type": "markdown",
      "source": [
        "Create an array (1 by 30 vector) containing 30 integers from 0 to 29"
      ],
      "metadata": {
        "id": "nIAoieEhBjc5"
      }
    },
    {
      "cell_type": "code",
      "source": [
        "a = np.arange(30)\n",
        "print(a)\n",
        "print(type(a))\n",
        "print(a.dtype)"
      ],
      "metadata": {
        "colab": {
          "base_uri": "https://localhost:8080/"
        },
        "id": "GFI22fKeupJ1",
        "outputId": "63fc26e7-353f-4a30-e6a8-2ca5c6d779c5"
      },
      "execution_count": null,
      "outputs": [
        {
          "output_type": "stream",
          "name": "stdout",
          "text": [
            "[ 0  1  2  3  4  5  6  7  8  9 10 11 12 13 14 15 16 17 18 19 20 21 22 23\n",
            " 24 25 26 27 28 29]\n",
            "<class 'numpy.ndarray'>\n",
            "int64\n"
          ]
        }
      ]
    },
    {
      "cell_type": "markdown",
      "source": [
        "Reshape the vector to a 5 by 6 matrix"
      ],
      "metadata": {
        "id": "nM5LIasQC2Ea"
      }
    },
    {
      "cell_type": "code",
      "source": [
        "print(a.reshape(5,6))"
      ],
      "metadata": {
        "colab": {
          "base_uri": "https://localhost:8080/"
        },
        "id": "31zF4xL0vzT1",
        "outputId": "91366306-06aa-4e87-996b-a8e261d7eb46"
      },
      "execution_count": null,
      "outputs": [
        {
          "output_type": "stream",
          "name": "stdout",
          "text": [
            "[[ 0  1  2  3  4  5]\n",
            " [ 6  7  8  9 10 11]\n",
            " [12 13 14 15 16 17]\n",
            " [18 19 20 21 22 23]\n",
            " [24 25 26 27 28 29]]\n"
          ]
        }
      ]
    },
    {
      "cell_type": "markdown",
      "source": [
        "# 2. Operations\n",
        "Array (Matrix) Operations between matrices"
      ],
      "metadata": {
        "id": "LFdvymQuDLd7"
      }
    },
    {
      "cell_type": "code",
      "source": [
        "test_a = np.array([[1,2,3],[4,5,6]], float)\n",
        "print(test_a + test_a)\n",
        "print(test_a - test_a)\n",
        "print(test_a.transpose())\n",
        "print(test_a * test_a)\n",
        "print(test_a.T.dot(test_a))"
      ],
      "metadata": {
        "colab": {
          "base_uri": "https://localhost:8080/"
        },
        "id": "kidg5bWLv_h5",
        "outputId": "d260c66d-642d-469a-e506-a9268f2c5969"
      },
      "execution_count": null,
      "outputs": [
        {
          "output_type": "stream",
          "name": "stdout",
          "text": [
            "[[ 2.  4.  6.]\n",
            " [ 8. 10. 12.]]\n",
            "[[0. 0. 0.]\n",
            " [0. 0. 0.]]\n",
            "[[1. 4.]\n",
            " [2. 5.]\n",
            " [3. 6.]]\n",
            "[[ 1.  4.  9.]\n",
            " [16. 25. 36.]]\n",
            "[[17. 22. 27.]\n",
            " [22. 29. 36.]\n",
            " [27. 36. 45.]]\n"
          ]
        }
      ]
    },
    {
      "cell_type": "markdown",
      "source": [
        "Array Operations between a matrix and a scalar\n",
        "\n",
        "Visit <https://realpython.com/python-operators-expressions/>"
      ],
      "metadata": {
        "id": "Ov468r2CDis4"
      }
    },
    {
      "cell_type": "code",
      "source": [
        "test_matrix = np.array([[1,2,3],[4,5,6]], float)\n",
        "scalar = 5\n",
        "print(test_matrix + scalar)\n",
        "print(test_matrix - scalar)\n",
        "print(test_matrix * scalar)\n",
        "print(test_matrix / scalar)\n",
        "print(test_matrix // 0.2)\n",
        "print(test_matrix ** 2)"
      ],
      "metadata": {
        "colab": {
          "base_uri": "https://localhost:8080/"
        },
        "id": "YcVGh1EExHNO",
        "outputId": "2c0116d6-b5ba-4d28-ea8b-fa3f8d6308da"
      },
      "execution_count": null,
      "outputs": [
        {
          "output_type": "stream",
          "name": "stdout",
          "text": [
            "[[ 6.  7.  8.]\n",
            " [ 9. 10. 11.]]\n",
            "[[-4. -3. -2.]\n",
            " [-1.  0.  1.]]\n",
            "[[ 5. 10. 15.]\n",
            " [20. 25. 30.]]\n",
            "[[0.2 0.4 0.6]\n",
            " [0.8 1.  1.2]]\n",
            "[[ 4.  9. 14.]\n",
            " [19. 24. 29.]]\n",
            "[[ 1.  4.  9.]\n",
            " [16. 25. 36.]]\n"
          ]
        }
      ]
    },
    {
      "cell_type": "markdown",
      "source": [
        "# 3. Linear Algebra"
      ],
      "metadata": {
        "id": "81VrR9XhD_Ck"
      }
    },
    {
      "cell_type": "code",
      "source": [
        "a = np.array([[3,1],[1,2]])\n",
        "b = np.array([9,8])\n",
        "x = np.linalg.solve(a,b)\n",
        "print(x)"
      ],
      "metadata": {
        "colab": {
          "base_uri": "https://localhost:8080/"
        },
        "id": "prwikuCoxmxC",
        "outputId": "65233a9f-728d-4a82-a69f-285a960fb05c"
      },
      "execution_count": null,
      "outputs": [
        {
          "output_type": "stream",
          "name": "stdout",
          "text": [
            "[2. 3.]\n"
          ]
        }
      ]
    },
    {
      "cell_type": "code",
      "source": [],
      "metadata": {
        "id": "Jjt10HPAy_Kr"
      },
      "execution_count": null,
      "outputs": []
    }
  ]
}