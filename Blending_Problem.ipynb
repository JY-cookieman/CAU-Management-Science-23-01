{
  "nbformat": 4,
  "nbformat_minor": 0,
  "metadata": {
    "colab": {
      "provenance": []
    },
    "kernelspec": {
      "name": "python3",
      "display_name": "Python 3"
    },
    "language_info": {
      "name": "python"
    }
  },
  "cells": [
    {
      "cell_type": "code",
      "execution_count": 1,
      "metadata": {
        "colab": {
          "base_uri": "https://localhost:8080/"
        },
        "id": "-qK2AJeSIQDx",
        "outputId": "ab5e10c8-c198-49cc-9ae8-99d3f96f1ebc"
      },
      "outputs": [
        {
          "output_type": "stream",
          "name": "stdout",
          "text": [
            "Looking in indexes: https://pypi.org/simple, https://us-python.pkg.dev/colab-wheels/public/simple/\n",
            "Collecting gurobipy\n",
            "  Downloading gurobipy-10.0.1-cp39-cp39-manylinux2014_x86_64.whl (12.8 MB)\n",
            "\u001b[2K     \u001b[90m━━━━━━━━━━━━━━━━━━━━━━━━━━━━━━━━━━━━━━━━\u001b[0m \u001b[32m12.8/12.8 MB\u001b[0m \u001b[31m48.7 MB/s\u001b[0m eta \u001b[36m0:00:00\u001b[0m\n",
            "\u001b[?25hInstalling collected packages: gurobipy\n",
            "Successfully installed gurobipy-10.0.1\n"
          ]
        }
      ],
      "source": [
        "!pip install gurobipy"
      ]
    },
    {
      "cell_type": "code",
      "source": [
        "from gurobipy import *"
      ],
      "metadata": {
        "id": "aJdot1SgIRJf"
      },
      "execution_count": 2,
      "outputs": []
    },
    {
      "cell_type": "code",
      "source": [
        "try:\n",
        "    m = Model(\"Blending_Problem\")\n",
        "\n",
        "    gas_price = [70,60,50]\n",
        "    crude_cost = [45,35,25]\n",
        "    gas_j_demand = [3000,2000,1000]\n",
        "    crude_avail = [5000,5000,5000]\n",
        "    process_cost = 4\n",
        "    demand_infla = 10\n",
        "    capacity = 14000\n",
        "    \n",
        "    crude_octane_rating = [12,6,8]\n",
        "    crude_sulfur_level = [0.005,0.02,0.03]\n",
        "    gas_octane_rating = [10,8,6]\n",
        "    gas_sulfur_level = [0.01,0.02,0.01]\n",
        "    \n",
        "    x_var_names = [[\"x\"+str(i+1)+str(j+1) for i in range(len(crude_cost))] for j in range(len(gas_price))]\n",
        "    a_var_names = [\"a\"+str(j+1) for j in range(len(gas_price))]\n",
        "    \n",
        "    x_var = []\n",
        "    for i in range(len(crude_cost)):\n",
        "        x_var.append([])\n",
        "        for j in range(len(gas_price)):\n",
        "            x_var[i].append(m.addVar(obj = gas_price[j] - crude_cost[i] - process_cost, vtype=GRB.CONTINUOUS, name=\"(%s)\" % (x_var_names[i][j])))\n",
        "    \n",
        "    a_var = []\n",
        "    for j in range(len(gas_price)):\n",
        "        a_var.append(m.addVar(obj = -1, vtype=GRB.CONTINUOUS, name=\"(%s)\" % (a_var_names[j])))\n",
        "    \n",
        "    m.modelSense = GRB.MAXIMIZE\n",
        "    m.update()\n",
        "    \n",
        "    for j in range(len(gas_price)):\n",
        "        m.addConstr(quicksum(x_var[i][j] for i in range(len(crude_cost))) == gas_j_demand[j] + demand_infla * a_var[j], \"Gas %d requirement \" % j)\n",
        "        \n",
        "    for i in range(len(crude_cost)):\n",
        "        m.addConstr(quicksum(x_var[i][j] for j in range(len(gas_price))) <= crude_avail[i], \"Crude Oil %d requirement \" % i)\n",
        "        \n",
        "    m.addConstr(quicksum(x_var[i][j] for i in range(len(crude_cost)) for j in range(len(gas_price))) <= capacity, \"capacity limit \")\n",
        "    \n",
        "    for j in range(len(gas_price)):\n",
        "        m.addConstr(quicksum(x_var[i][j] * crude_octane_rating[i] for i in range(len(crude_cost))) >= gas_octane_rating[j] * quicksum(x_var[i][j] for i in range(len(crude_cost))))\n",
        "        \n",
        "    for j in range(len(gas_price)):\n",
        "        m.addConstr(quicksum(x_var[i][j] * crude_sulfur_level[i] for i in range(len(crude_cost))) <= gas_sulfur_level[j] * quicksum(x_var[i][j] for i in range(len(crude_cost))))\n",
        "\n",
        "    m.optimize()\n",
        "\n",
        "    for v in m.getVars():\n",
        "        print(v.varName, v.x)\n",
        "            \n",
        "    print(\"Obj:\", m.objVal)\n",
        "\n",
        "except GurobiError:\n",
        "    print(\"Error reported\")"
      ],
      "metadata": {
        "colab": {
          "base_uri": "https://localhost:8080/"
        },
        "id": "0xYVSDRHIasC",
        "outputId": "33ce3a1f-5a6b-4527-f593-31eff1a304a6"
      },
      "execution_count": 6,
      "outputs": [
        {
          "output_type": "stream",
          "name": "stdout",
          "text": [
            "Gurobi Optimizer version 10.0.1 build v10.0.1rc0 (linux64)\n",
            "\n",
            "CPU model: Intel(R) Xeon(R) CPU @ 2.20GHz, instruction set [SSE2|AVX|AVX2]\n",
            "Thread count: 1 physical cores, 2 logical processors, using up to 2 threads\n",
            "\n",
            "Optimize a model with 13 rows, 12 columns and 45 nonzeros\n",
            "Model fingerprint: 0x86e972fe\n",
            "Coefficient statistics:\n",
            "  Matrix range     [5e-03, 1e+01]\n",
            "  Objective range  [1e+00, 4e+01]\n",
            "  Bounds range     [0e+00, 0e+00]\n",
            "  RHS range        [1e+03, 1e+04]\n",
            "Presolve removed 4 rows and 3 columns\n",
            "Presolve time: 0.01s\n",
            "Presolved: 9 rows, 9 columns, 33 nonzeros\n",
            "\n",
            "Iteration    Objective       Primal Inf.    Dual Inf.      Time\n",
            "       0    4.2410000e+05   3.094815e+03   0.000000e+00      0s\n",
            "      11    2.8775000e+05   0.000000e+00   0.000000e+00      0s\n",
            "\n",
            "Solved in 11 iterations and 0.02 seconds (0.00 work units)\n",
            "Optimal objective  2.877500000e+05\n",
            "(x11) 2000.0\n",
            "(x21) 2333.3333333333335\n",
            "(x31) 666.6666666666666\n",
            "(x12) 1000.0\n",
            "(x22) 3666.6666666666665\n",
            "(x32) 333.3333333333333\n",
            "(x13) 0.0\n",
            "(x23) 3500.0000000000005\n",
            "(x33) 0.0\n",
            "(a1) 0.0\n",
            "(a2) 750.0\n",
            "(a3) 0.0\n",
            "Obj: 287750.0\n"
          ]
        }
      ]
    },
    {
      "cell_type": "code",
      "source": [],
      "metadata": {
        "id": "M2VGPewMIfD-"
      },
      "execution_count": null,
      "outputs": []
    }
  ]
}