{
  "nbformat": 4,
  "nbformat_minor": 0,
  "metadata": {
    "colab": {
      "provenance": []
    },
    "kernelspec": {
      "name": "python3",
      "display_name": "Python 3"
    },
    "language_info": {
      "name": "python"
    }
  },
  "cells": [
    {
      "cell_type": "markdown",
      "source": [
        "Install GUROBI \n",
        "\n",
        "<https://www.gurobi.com/academia/academic-program-and-licenses/>\n",
        "\n",
        "License: you can get full version or limited version. In this class, limited version (2000 decision variables and 2000 constraints) will be enough.\n",
        "\n",
        "<https://support.gurobi.com/hc/en-us/articles/4409582394769-Google-Colab-Installation-and-Licensing>"
      ],
      "metadata": {
        "id": "apqWerj5MVn6"
      }
    },
    {
      "cell_type": "code",
      "execution_count": 1,
      "metadata": {
        "colab": {
          "base_uri": "https://localhost:8080/"
        },
        "id": "Fr_9XIozMRze",
        "outputId": "feb076a8-05d1-49b2-9af5-1d19aa52fc0d"
      },
      "outputs": [
        {
          "output_type": "stream",
          "name": "stdout",
          "text": [
            "Looking in indexes: https://pypi.org/simple, https://us-python.pkg.dev/colab-wheels/public/simple/\n",
            "Collecting gurobipy\n",
            "  Downloading gurobipy-10.0.1-cp39-cp39-manylinux2014_x86_64.whl (12.8 MB)\n",
            "\u001b[2K     \u001b[90m━━━━━━━━━━━━━━━━━━━━━━━━━━━━━━━━━━━━━━━━\u001b[0m \u001b[32m12.8/12.8 MB\u001b[0m \u001b[31m45.3 MB/s\u001b[0m eta \u001b[36m0:00:00\u001b[0m\n",
            "\u001b[?25hInstalling collected packages: gurobipy\n",
            "Successfully installed gurobipy-10.0.1\n"
          ]
        }
      ],
      "source": [
        "!pip install gurobipy"
      ]
    },
    {
      "cell_type": "code",
      "source": [
        "from gurobipy import *"
      ],
      "metadata": {
        "id": "py4pNgakMbmr"
      },
      "execution_count": 2,
      "outputs": []
    },
    {
      "cell_type": "code",
      "source": [
        "try:\n",
        "  days = [\"Mon\", \"Tue\", \"Wed\", \"Thur\", \"Fri\", \"Sat\", \"Sun\"]\n",
        "  Assignment = [[1,0,0,1,1,1,1],\n",
        "                [1,1,0,0,1,1,1],\n",
        "                [1,1,1,0,0,1,1],\n",
        "                [1,1,1,1,0,0,1],\n",
        "                [1,1,1,1,1,0,0],\n",
        "                [0,1,1,1,1,1,0],\n",
        "                [0,0,1,1,1,1,1]]\n",
        "  required = [17,13,15,19,14,16,11]\n",
        "\n",
        "  m = Model(\"Work_Scheduling_Problem\")\n",
        "  day_assignment = []\n",
        "  for i in range(len(days)):\n",
        "    day_assignment.append(m.addVar(obj = 1, vtype = GRB.INTEGER, name = \"(%s)\" % (days[i]))) #obj=1 means coefficient in objective function is 1.\n",
        "  \n",
        "  m.modelSense = GRB.MINIMIZE #because we did not explicitly define objective function, we define model sense here, maximize or minimize\n",
        "  m.update()\n",
        "\n",
        "  for i in range(len(days)):\n",
        "    m.addConstr(quicksum(Assignment[i][c] * day_assignment[c] for c in range(len(days))) >= required[i], \"day requirement %s\" % days[i])\n",
        "  \n",
        "  m.optimize()\n",
        "\n",
        "  for v in m.getVars():\n",
        "    print(v.varName, v.x)\n",
        "\n",
        "  print(\"Obj:\", m.objVal)\n",
        "\n",
        "except GurobiError:\n",
        "  print(\"Error reported\")"
      ],
      "metadata": {
        "colab": {
          "base_uri": "https://localhost:8080/"
        },
        "id": "LVQytB5eMoLO",
        "outputId": "101ec31e-36ca-4016-cedd-df76c71ebf66"
      },
      "execution_count": 3,
      "outputs": [
        {
          "output_type": "stream",
          "name": "stdout",
          "text": [
            "Restricted license - for non-production use only - expires 2024-10-28\n",
            "Gurobi Optimizer version 10.0.1 build v10.0.1rc0 (linux64)\n",
            "\n",
            "CPU model: Intel(R) Xeon(R) CPU @ 2.20GHz, instruction set [SSE2|AVX|AVX2]\n",
            "Thread count: 1 physical cores, 2 logical processors, using up to 2 threads\n",
            "\n",
            "Optimize a model with 7 rows, 7 columns and 35 nonzeros\n",
            "Model fingerprint: 0xf4fc9c66\n",
            "Variable types: 0 continuous, 7 integer (0 binary)\n",
            "Coefficient statistics:\n",
            "  Matrix range     [1e+00, 1e+00]\n",
            "  Objective range  [1e+00, 1e+00]\n",
            "  Bounds range     [0e+00, 0e+00]\n",
            "  RHS range        [1e+01, 2e+01]\n",
            "Found heuristic solution: objective 35.0000000\n",
            "Presolve time: 0.00s\n",
            "Presolved: 7 rows, 7 columns, 35 nonzeros\n",
            "Variable types: 0 continuous, 7 integer (0 binary)\n",
            "\n",
            "Root relaxation: objective 2.233333e+01, 5 iterations, 0.00 seconds (0.00 work units)\n",
            "\n",
            "    Nodes    |    Current Node    |     Objective Bounds      |     Work\n",
            " Expl Unexpl |  Obj  Depth IntInf | Incumbent    BestBd   Gap | It/Node Time\n",
            "\n",
            "     0     0   22.33333    0    4   35.00000   22.33333  36.2%     -    0s\n",
            "H    0     0                      23.0000000   22.33333  2.90%     -    0s\n",
            "     0     0   22.33333    0    4   23.00000   22.33333  2.90%     -    0s\n",
            "\n",
            "Explored 1 nodes (5 simplex iterations) in 0.02 seconds (0.00 work units)\n",
            "Thread count was 2 (of 2 available processors)\n",
            "\n",
            "Solution count 2: 23 35 \n",
            "\n",
            "Optimal solution found (tolerance 1.00e-04)\n",
            "Best objective 2.300000000000e+01, best bound 2.300000000000e+01, gap 0.0000%\n",
            "(Mon) 7.0\n",
            "(Tue) 5.0\n",
            "(Wed) 1.0\n",
            "(Thur) 7.0\n",
            "(Fri) -0.0\n",
            "(Sat) 3.0\n",
            "(Sun) -0.0\n",
            "Obj: 23.0\n"
          ]
        }
      ]
    },
    {
      "cell_type": "code",
      "source": [],
      "metadata": {
        "id": "VmTlFvqfOxXT"
      },
      "execution_count": null,
      "outputs": []
    }
  ]
}