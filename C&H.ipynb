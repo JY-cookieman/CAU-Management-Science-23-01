{
  "nbformat": 4,
  "nbformat_minor": 0,
  "metadata": {
    "colab": {
      "provenance": []
    },
    "kernelspec": {
      "name": "python3",
      "display_name": "Python 3"
    },
    "language_info": {
      "name": "python"
    }
  },
  "cells": [
    {
      "cell_type": "markdown",
      "source": [
        "[link text](https://)Install GUROBI \n",
        "\n",
        "<https://www.gurobi.com/academia/academic-program-and-licenses/>\n",
        "\n",
        "License: you can get full version or limited version. In this class, limited version (2000 decision variables and 2000 constraints) will be enough.\n",
        "\n",
        "<https://support.gurobi.com/hc/en-us/articles/4409582394769-Google-Colab-Installation-and-Licensing>"
      ],
      "metadata": {
        "id": "W643Z30MF2DD"
      }
    },
    {
      "cell_type": "code",
      "execution_count": 1,
      "metadata": {
        "colab": {
          "base_uri": "https://localhost:8080/"
        },
        "id": "AZjDcioKFuVA",
        "outputId": "b4ac3d1a-573f-46d4-9d39-ebbfce695443"
      },
      "outputs": [
        {
          "output_type": "stream",
          "name": "stdout",
          "text": [
            "Looking in indexes: https://pypi.org/simple, https://us-python.pkg.dev/colab-wheels/public/simple/\n",
            "Collecting gurobipy\n",
            "  Downloading gurobipy-10.0.1-cp39-cp39-manylinux2014_x86_64.whl (12.8 MB)\n",
            "\u001b[2K     \u001b[90m━━━━━━━━━━━━━━━━━━━━━━━━━━━━━━━━━━━━━━━━\u001b[0m \u001b[32m12.8/12.8 MB\u001b[0m \u001b[31m57.0 MB/s\u001b[0m eta \u001b[36m0:00:00\u001b[0m\n",
            "\u001b[?25hInstalling collected packages: gurobipy\n",
            "Successfully installed gurobipy-10.0.1\n"
          ]
        }
      ],
      "source": [
        "!pip install gurobipy"
      ]
    },
    {
      "cell_type": "code",
      "source": [
        "from gurobipy import *"
      ],
      "metadata": {
        "id": "glrLgVwRF6tV"
      },
      "execution_count": 2,
      "outputs": []
    },
    {
      "cell_type": "code",
      "source": [
        "DC = [\"1\",\"2\",\"3\",\"4\",\"5\"]\n",
        "LINK = [[\"11\",\"12\",\"13\",\"14\",\"15\"],\n",
        "        [\"21\",\"22\",\"23\",\"24\",\"25\"],\n",
        "        [\"31\",\"32\",\"33\",\"34\",\"35\"],\n",
        "        [\"41\",\"42\",\"43\",\"44\",\"45\"],\n",
        "        [\"51\",\"52\",\"53\",\"54\",\"55\"],]\n",
        "\n",
        "NEWS = [\"NW\",\"SE\",\"MW\",\"SW\",\"W\"]\n",
        "time = [[1.0,2.0,2.0,3.0,4.0],\n",
        "        [2.0,1.5,3.0,2.5,4.0],\n",
        "        [2.0,2.0,1.0,2.5,3.0],\n",
        "        [3.0,2.0,3.0,1.5,3.5],\n",
        "        [4.0,3.0,3.0,2.0,1.5]]\n",
        "\n",
        "fix = [4.0,0.0,6.0,3.0,4.5]\n",
        "D = [360.0,180.0,260.0,240.0,320.0]"
      ],
      "metadata": {
        "id": "vgcITYUrGAKu"
      },
      "execution_count": 3,
      "outputs": []
    },
    {
      "cell_type": "code",
      "source": [
        "M = 100000\n",
        "try:\n",
        "    m = Model(\"C&H\")\n",
        "    \n",
        "    var = []\n",
        "\n",
        "    var.append([])\n",
        "    for i in range(len(fix)):\n",
        "        var[0].append(m.addVar(vtype=GRB.BINARY, obj = 0, name=\"y_%s\" % DC[i]))\n",
        "\n",
        "    var.append([])\n",
        "    for i in range(len(time)):\n",
        "        var[1].append([])\n",
        "        for j in range(len(time[0])):\n",
        "            var[1][i].append(m.addVar(vtype=GRB.CONTINUOUS, obj = time[i][j], name=\"x_%s\" % LINK[i][j]))\n",
        "\n",
        "    m.modelSense = GRB.MINIMIZE\n",
        "    m.update()\n",
        "    \n",
        "    for i in range(len(D)):\n",
        "        m.addConstr(quicksum(var[1][k][i] for k in range(len(D))) >= D[i], \"Demand at %s\" % NEWS[i])\n",
        "\n",
        "    for i in range(len(DC)):\n",
        "        m.addConstr(sum(var[1][i]) <= M * var[0][i], \"Demand at %s\" % NEWS[i])\n",
        "        \n",
        "    m.addConstr(quicksum(var[0][i] * fix[i] for i in range(len(fix))) <= 10, \"budget\")\n",
        "        \n",
        "        \n",
        "    m.optimize()\n",
        "    \n",
        "    for v in m.getVars():\n",
        "        print(v.varName, v.x)\n",
        "            \n",
        "    print(\"Obj:\", m.objVal)\n",
        "    \n",
        "except GurobiError:\n",
        "    print(\"Error reported\")"
      ],
      "metadata": {
        "colab": {
          "base_uri": "https://localhost:8080/"
        },
        "id": "syOV1SCNGGAh",
        "outputId": "ffcef815-e7b5-4135-f0c2-45818a51b70a"
      },
      "execution_count": 4,
      "outputs": [
        {
          "output_type": "stream",
          "name": "stdout",
          "text": [
            "Restricted license - for non-production use only - expires 2024-10-28\n",
            "Gurobi Optimizer version 10.0.1 build v10.0.1rc0 (linux64)\n",
            "\n",
            "CPU model: AMD EPYC 7B12, instruction set [SSE2|AVX|AVX2]\n",
            "Thread count: 1 physical cores, 2 logical processors, using up to 2 threads\n",
            "\n",
            "Optimize a model with 11 rows, 30 columns and 59 nonzeros\n",
            "Model fingerprint: 0x0bf8d6f3\n",
            "Variable types: 25 continuous, 5 integer (5 binary)\n",
            "Coefficient statistics:\n",
            "  Matrix range     [1e+00, 1e+05]\n",
            "  Objective range  [1e+00, 4e+00]\n",
            "  Bounds range     [1e+00, 1e+00]\n",
            "  RHS range        [1e+01, 4e+02]\n",
            "Presolve removed 3 rows and 16 columns\n",
            "Presolve time: 0.00s\n",
            "Presolved: 8 rows, 14 columns, 25 nonzeros\n",
            "Variable types: 10 continuous, 4 integer (4 binary)\n",
            "Found heuristic solution: objective 2110.0000000\n",
            "\n",
            "Root relaxation: objective 1.894926e+03, 7 iterations, 0.00 seconds (0.00 work units)\n",
            "\n",
            "    Nodes    |    Current Node    |     Objective Bounds      |     Work\n",
            " Expl Unexpl |  Obj  Depth IntInf | Incumbent    BestBd   Gap | It/Node Time\n",
            "\n",
            "     0     0 1894.92611    0    4 2110.00000 1894.92611  10.2%     -    0s\n",
            "     0     0     cutoff    0      2110.00000 2110.00000  0.00%     -    0s\n",
            "\n",
            "Explored 1 nodes (10 simplex iterations) in 0.04 seconds (0.00 work units)\n",
            "Thread count was 2 (of 2 available processors)\n",
            "\n",
            "Solution count 1: 2110 \n",
            "\n",
            "Optimal solution found (tolerance 1.00e-04)\n",
            "Best objective 2.110000000000e+03, best bound 2.110000000000e+03, gap 0.0000%\n",
            "y_1 1.0\n",
            "y_2 1.0\n",
            "y_3 -0.0\n",
            "y_4 -0.0\n",
            "y_5 1.0\n",
            "x_11 360.0\n",
            "x_12 0.0\n",
            "x_13 260.0\n",
            "x_14 0.0\n",
            "x_15 0.0\n",
            "x_21 0.0\n",
            "x_22 180.0\n",
            "x_23 0.0\n",
            "x_24 0.0\n",
            "x_25 0.0\n",
            "x_31 0.0\n",
            "x_32 0.0\n",
            "x_33 0.0\n",
            "x_34 0.0\n",
            "x_35 0.0\n",
            "x_41 0.0\n",
            "x_42 0.0\n",
            "x_43 0.0\n",
            "x_44 0.0\n",
            "x_45 0.0\n",
            "x_51 0.0\n",
            "x_52 0.0\n",
            "x_53 0.0\n",
            "x_54 240.0\n",
            "x_55 320.0\n",
            "Obj: 2110.0\n"
          ]
        }
      ]
    },
    {
      "cell_type": "code",
      "source": [],
      "metadata": {
        "id": "pfqwa19pGMmR"
      },
      "execution_count": null,
      "outputs": []
    }
  ]
}